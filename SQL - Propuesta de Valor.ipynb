{
 "cells": [
  {
   "cell_type": "markdown",
   "metadata": {},
   "source": [
    "**Table of contents**<a id='toc0_'></a>    \n",
    "- [Introducion](#toc1_)    \n",
    "- [Conexion de la base de datos](#toc2_)    \n",
    "- [Analisis de datos](#toc3_)    \n",
    "  - [Revision de las tablas](#toc3_1_)    \n",
    "    - [Tabla Books](#toc3_1_1_)    \n",
    "    - [Tabla Authors](#toc3_1_2_)    \n",
    "    - [Tabla publishers](#toc3_1_3_)    \n",
    "    - [Tabla ratings](#toc3_1_4_)    \n",
    "    - [Tabla reviews](#toc3_1_5_)    \n",
    "  - [Número de libros publicados después del 1 de enero de 2000.](#toc3_2_)    \n",
    "  - [Número de reseñas y calificación promedio para cada libro](#toc3_3_)    \n",
    "  - [Editorial que ha publicado el mayor número de libros con más de 50 páginas](#toc3_4_)    \n",
    "  - [Autor con la Calificación Promedio Más Alta de Sus Libros (Con al Menos 50 Calificaciones)](#toc3_5_)    \n",
    "  - [Número Promedio de Reseñas de Texto entre Usuarios que Calificaron Más de 50 Libros](#toc3_6_)    \n",
    "\n",
    "<!-- vscode-jupyter-toc-config\n",
    "\tnumbering=false\n",
    "\tanchor=true\n",
    "\tflat=false\n",
    "\tminLevel=1\n",
    "\tmaxLevel=6\n",
    "\t/vscode-jupyter-toc-config -->\n",
    "<!-- THIS CELL WILL BE REPLACED ON TOC UPDATE. DO NOT WRITE YOUR TEXT IN THIS CELL -->"
   ]
  },
  {
   "cell_type": "markdown",
   "metadata": {},
   "source": [
    "# <a id='toc1_'></a>[Introducion](#toc0_)"
   ]
  },
  {
   "cell_type": "markdown",
   "metadata": {},
   "source": [
    "El presente proyecto tiene como finalidad generar la propuesta de valor para una aplicacion dirigida a los amantes de los libros. "
   ]
  },
  {
   "cell_type": "markdown",
   "metadata": {},
   "source": [
    "# <a id='toc2_'></a>[Conexion de la base de datos](#toc0_)"
   ]
  },
  {
   "cell_type": "code",
   "execution_count": 1,
   "metadata": {},
   "outputs": [],
   "source": [
    "\n",
    "import pandas as pd\n",
    "from sqlalchemy import create_engine\n",
    "\n",
    "\n",
    "db_config = {'user': 'practicum_student',         # nombre de usuario\n",
    "             'pwd': 's65BlTKV3faNIGhmvJVzOqhs', # contraseña\n",
    "             'host': 'rc1b-wcoijxj3yxfsf3fs.mdb.yandexcloud.net',\n",
    "             'port': 6432,              # puerto de conexión\n",
    "             'db': 'data-analyst-final-project-db'}          # nombre de la base de datos\n",
    "\n",
    "connection_string = 'postgresql://{}:{}@{}:{}/{}'.format(db_config['user'],\n",
    "                                                                     db_config['pwd'],\n",
    "                                                                       db_config['host'],\n",
    "                                                                       db_config['port'],\n",
    "                                                                       db_config['db'])\n",
    "\n",
    "engine = create_engine(connection_string, connect_args={'sslmode':'require'})"
   ]
  },
  {
   "cell_type": "markdown",
   "metadata": {},
   "source": [
    "# <a id='toc3_'></a>[Analisis de datos](#toc0_)"
   ]
  },
  {
   "cell_type": "markdown",
   "metadata": {},
   "source": [
    "## <a id='toc3_1_'></a>[Revision de las tablas](#toc0_)"
   ]
  },
  {
   "cell_type": "markdown",
   "metadata": {},
   "source": [
    "### <a id='toc3_1_1_'></a>[Tabla Books](#toc0_)"
   ]
  },
  {
   "cell_type": "code",
   "execution_count": 2,
   "metadata": {},
   "outputs": [
    {
     "data": {
      "text/html": [
       "<div>\n",
       "<style scoped>\n",
       "    .dataframe tbody tr th:only-of-type {\n",
       "        vertical-align: middle;\n",
       "    }\n",
       "\n",
       "    .dataframe tbody tr th {\n",
       "        vertical-align: top;\n",
       "    }\n",
       "\n",
       "    .dataframe thead th {\n",
       "        text-align: right;\n",
       "    }\n",
       "</style>\n",
       "<table border=\"1\" class=\"dataframe\">\n",
       "  <thead>\n",
       "    <tr style=\"text-align: right;\">\n",
       "      <th></th>\n",
       "      <th>book_id</th>\n",
       "      <th>author_id</th>\n",
       "      <th>title</th>\n",
       "      <th>num_pages</th>\n",
       "      <th>publication_date</th>\n",
       "      <th>publisher_id</th>\n",
       "    </tr>\n",
       "  </thead>\n",
       "  <tbody>\n",
       "    <tr>\n",
       "      <th>0</th>\n",
       "      <td>1</td>\n",
       "      <td>546</td>\n",
       "      <td>'Salem's Lot</td>\n",
       "      <td>594</td>\n",
       "      <td>2005-11-01</td>\n",
       "      <td>93</td>\n",
       "    </tr>\n",
       "    <tr>\n",
       "      <th>1</th>\n",
       "      <td>2</td>\n",
       "      <td>465</td>\n",
       "      <td>1 000 Places to See Before You Die</td>\n",
       "      <td>992</td>\n",
       "      <td>2003-05-22</td>\n",
       "      <td>336</td>\n",
       "    </tr>\n",
       "    <tr>\n",
       "      <th>2</th>\n",
       "      <td>3</td>\n",
       "      <td>407</td>\n",
       "      <td>13 Little Blue Envelopes (Little Blue Envelope...</td>\n",
       "      <td>322</td>\n",
       "      <td>2010-12-21</td>\n",
       "      <td>135</td>\n",
       "    </tr>\n",
       "    <tr>\n",
       "      <th>3</th>\n",
       "      <td>4</td>\n",
       "      <td>82</td>\n",
       "      <td>1491: New Revelations of the Americas Before C...</td>\n",
       "      <td>541</td>\n",
       "      <td>2006-10-10</td>\n",
       "      <td>309</td>\n",
       "    </tr>\n",
       "    <tr>\n",
       "      <th>4</th>\n",
       "      <td>5</td>\n",
       "      <td>125</td>\n",
       "      <td>1776</td>\n",
       "      <td>386</td>\n",
       "      <td>2006-07-04</td>\n",
       "      <td>268</td>\n",
       "    </tr>\n",
       "    <tr>\n",
       "      <th>5</th>\n",
       "      <td>6</td>\n",
       "      <td>257</td>\n",
       "      <td>1st to Die (Women's Murder Club  #1)</td>\n",
       "      <td>424</td>\n",
       "      <td>2005-05-20</td>\n",
       "      <td>116</td>\n",
       "    </tr>\n",
       "    <tr>\n",
       "      <th>6</th>\n",
       "      <td>7</td>\n",
       "      <td>258</td>\n",
       "      <td>2nd Chance (Women's Murder Club  #2)</td>\n",
       "      <td>400</td>\n",
       "      <td>2005-05-20</td>\n",
       "      <td>116</td>\n",
       "    </tr>\n",
       "    <tr>\n",
       "      <th>7</th>\n",
       "      <td>8</td>\n",
       "      <td>260</td>\n",
       "      <td>4th of July (Women's Murder Club  #4)</td>\n",
       "      <td>448</td>\n",
       "      <td>2006-06-01</td>\n",
       "      <td>318</td>\n",
       "    </tr>\n",
       "    <tr>\n",
       "      <th>8</th>\n",
       "      <td>9</td>\n",
       "      <td>563</td>\n",
       "      <td>A Beautiful Mind</td>\n",
       "      <td>461</td>\n",
       "      <td>2002-02-04</td>\n",
       "      <td>104</td>\n",
       "    </tr>\n",
       "    <tr>\n",
       "      <th>9</th>\n",
       "      <td>10</td>\n",
       "      <td>445</td>\n",
       "      <td>A Bend in the Road</td>\n",
       "      <td>341</td>\n",
       "      <td>2005-04-01</td>\n",
       "      <td>116</td>\n",
       "    </tr>\n",
       "  </tbody>\n",
       "</table>\n",
       "</div>"
      ],
      "text/plain": [
       "   book_id  author_id                                              title  \\\n",
       "0        1        546                                       'Salem's Lot   \n",
       "1        2        465                 1 000 Places to See Before You Die   \n",
       "2        3        407  13 Little Blue Envelopes (Little Blue Envelope...   \n",
       "3        4         82  1491: New Revelations of the Americas Before C...   \n",
       "4        5        125                                               1776   \n",
       "5        6        257               1st to Die (Women's Murder Club  #1)   \n",
       "6        7        258               2nd Chance (Women's Murder Club  #2)   \n",
       "7        8        260              4th of July (Women's Murder Club  #4)   \n",
       "8        9        563                                   A Beautiful Mind   \n",
       "9       10        445                                 A Bend in the Road   \n",
       "\n",
       "   num_pages publication_date  publisher_id  \n",
       "0        594       2005-11-01            93  \n",
       "1        992       2003-05-22           336  \n",
       "2        322       2010-12-21           135  \n",
       "3        541       2006-10-10           309  \n",
       "4        386       2006-07-04           268  \n",
       "5        424       2005-05-20           116  \n",
       "6        400       2005-05-20           116  \n",
       "7        448       2006-06-01           318  \n",
       "8        461       2002-02-04           104  \n",
       "9        341       2005-04-01           116  "
      ]
     },
     "execution_count": 2,
     "metadata": {},
     "output_type": "execute_result"
    }
   ],
   "source": [
    "query= \"\"\"\n",
    "SELECT * FROM books LIMIT 10;\n",
    "\"\"\"\n",
    "books= pd.io.sql.read_sql(query, con = engine)\n",
    "\n",
    "books"
   ]
  },
  {
   "cell_type": "markdown",
   "metadata": {},
   "source": [
    "### <a id='toc3_1_2_'></a>[Tabla Authors](#toc0_)"
   ]
  },
  {
   "cell_type": "code",
   "execution_count": 3,
   "metadata": {},
   "outputs": [
    {
     "data": {
      "text/html": [
       "<div>\n",
       "<style scoped>\n",
       "    .dataframe tbody tr th:only-of-type {\n",
       "        vertical-align: middle;\n",
       "    }\n",
       "\n",
       "    .dataframe tbody tr th {\n",
       "        vertical-align: top;\n",
       "    }\n",
       "\n",
       "    .dataframe thead th {\n",
       "        text-align: right;\n",
       "    }\n",
       "</style>\n",
       "<table border=\"1\" class=\"dataframe\">\n",
       "  <thead>\n",
       "    <tr style=\"text-align: right;\">\n",
       "      <th></th>\n",
       "      <th>author_id</th>\n",
       "      <th>author</th>\n",
       "    </tr>\n",
       "  </thead>\n",
       "  <tbody>\n",
       "    <tr>\n",
       "      <th>0</th>\n",
       "      <td>1</td>\n",
       "      <td>A.S. Byatt</td>\n",
       "    </tr>\n",
       "    <tr>\n",
       "      <th>1</th>\n",
       "      <td>2</td>\n",
       "      <td>Aesop/Laura Harris/Laura Gibbs</td>\n",
       "    </tr>\n",
       "    <tr>\n",
       "      <th>2</th>\n",
       "      <td>3</td>\n",
       "      <td>Agatha Christie</td>\n",
       "    </tr>\n",
       "    <tr>\n",
       "      <th>3</th>\n",
       "      <td>4</td>\n",
       "      <td>Alan Brennert</td>\n",
       "    </tr>\n",
       "    <tr>\n",
       "      <th>4</th>\n",
       "      <td>5</td>\n",
       "      <td>Alan Moore/David   Lloyd</td>\n",
       "    </tr>\n",
       "    <tr>\n",
       "      <th>5</th>\n",
       "      <td>6</td>\n",
       "      <td>Alan Paton</td>\n",
       "    </tr>\n",
       "    <tr>\n",
       "      <th>6</th>\n",
       "      <td>7</td>\n",
       "      <td>Albert Camus/Justin O'Brien</td>\n",
       "    </tr>\n",
       "    <tr>\n",
       "      <th>7</th>\n",
       "      <td>8</td>\n",
       "      <td>Aldous Huxley</td>\n",
       "    </tr>\n",
       "    <tr>\n",
       "      <th>8</th>\n",
       "      <td>9</td>\n",
       "      <td>Aldous Huxley/Christopher Hitchens</td>\n",
       "    </tr>\n",
       "    <tr>\n",
       "      <th>9</th>\n",
       "      <td>10</td>\n",
       "      <td>Aleksandr Solzhenitsyn/H.T. Willetts</td>\n",
       "    </tr>\n",
       "  </tbody>\n",
       "</table>\n",
       "</div>"
      ],
      "text/plain": [
       "   author_id                                author\n",
       "0          1                            A.S. Byatt\n",
       "1          2        Aesop/Laura Harris/Laura Gibbs\n",
       "2          3                       Agatha Christie\n",
       "3          4                         Alan Brennert\n",
       "4          5              Alan Moore/David   Lloyd\n",
       "5          6                            Alan Paton\n",
       "6          7           Albert Camus/Justin O'Brien\n",
       "7          8                         Aldous Huxley\n",
       "8          9    Aldous Huxley/Christopher Hitchens\n",
       "9         10  Aleksandr Solzhenitsyn/H.T. Willetts"
      ]
     },
     "execution_count": 3,
     "metadata": {},
     "output_type": "execute_result"
    }
   ],
   "source": [
    "query= \"\"\"\n",
    "SELECT * FROM authors LIMIT 10;\n",
    "\"\"\"\n",
    "authors= pd.io.sql.read_sql(query, con = engine)\n",
    "\n",
    "authors"
   ]
  },
  {
   "cell_type": "markdown",
   "metadata": {},
   "source": [
    "### <a id='toc3_1_3_'></a>[Tabla publishers](#toc0_)"
   ]
  },
  {
   "cell_type": "code",
   "execution_count": 4,
   "metadata": {},
   "outputs": [
    {
     "data": {
      "text/html": [
       "<div>\n",
       "<style scoped>\n",
       "    .dataframe tbody tr th:only-of-type {\n",
       "        vertical-align: middle;\n",
       "    }\n",
       "\n",
       "    .dataframe tbody tr th {\n",
       "        vertical-align: top;\n",
       "    }\n",
       "\n",
       "    .dataframe thead th {\n",
       "        text-align: right;\n",
       "    }\n",
       "</style>\n",
       "<table border=\"1\" class=\"dataframe\">\n",
       "  <thead>\n",
       "    <tr style=\"text-align: right;\">\n",
       "      <th></th>\n",
       "      <th>publisher_id</th>\n",
       "      <th>publisher</th>\n",
       "    </tr>\n",
       "  </thead>\n",
       "  <tbody>\n",
       "    <tr>\n",
       "      <th>0</th>\n",
       "      <td>1</td>\n",
       "      <td>Ace</td>\n",
       "    </tr>\n",
       "    <tr>\n",
       "      <th>1</th>\n",
       "      <td>2</td>\n",
       "      <td>Ace Book</td>\n",
       "    </tr>\n",
       "    <tr>\n",
       "      <th>2</th>\n",
       "      <td>3</td>\n",
       "      <td>Ace Books</td>\n",
       "    </tr>\n",
       "    <tr>\n",
       "      <th>3</th>\n",
       "      <td>4</td>\n",
       "      <td>Ace Hardcover</td>\n",
       "    </tr>\n",
       "    <tr>\n",
       "      <th>4</th>\n",
       "      <td>5</td>\n",
       "      <td>Addison Wesley Publishing Company</td>\n",
       "    </tr>\n",
       "    <tr>\n",
       "      <th>5</th>\n",
       "      <td>6</td>\n",
       "      <td>Aladdin</td>\n",
       "    </tr>\n",
       "    <tr>\n",
       "      <th>6</th>\n",
       "      <td>7</td>\n",
       "      <td>Aladdin Paperbacks</td>\n",
       "    </tr>\n",
       "    <tr>\n",
       "      <th>7</th>\n",
       "      <td>8</td>\n",
       "      <td>Albin Michel</td>\n",
       "    </tr>\n",
       "    <tr>\n",
       "      <th>8</th>\n",
       "      <td>9</td>\n",
       "      <td>Alfred A. Knopf</td>\n",
       "    </tr>\n",
       "    <tr>\n",
       "      <th>9</th>\n",
       "      <td>10</td>\n",
       "      <td>Alfred A. Knopf Books for Young Readers</td>\n",
       "    </tr>\n",
       "  </tbody>\n",
       "</table>\n",
       "</div>"
      ],
      "text/plain": [
       "   publisher_id                                publisher\n",
       "0             1                                      Ace\n",
       "1             2                                 Ace Book\n",
       "2             3                                Ace Books\n",
       "3             4                            Ace Hardcover\n",
       "4             5        Addison Wesley Publishing Company\n",
       "5             6                                  Aladdin\n",
       "6             7                       Aladdin Paperbacks\n",
       "7             8                             Albin Michel\n",
       "8             9                          Alfred A. Knopf\n",
       "9            10  Alfred A. Knopf Books for Young Readers"
      ]
     },
     "execution_count": 4,
     "metadata": {},
     "output_type": "execute_result"
    }
   ],
   "source": [
    "query= \"\"\"\n",
    "SELECT * FROM publishers LIMIT 10;\n",
    "\"\"\"\n",
    "publishers= pd.io.sql.read_sql(query, con = engine)\n",
    "\n",
    "publishers"
   ]
  },
  {
   "cell_type": "markdown",
   "metadata": {},
   "source": [
    "### <a id='toc3_1_4_'></a>[Tabla ratings](#toc0_)"
   ]
  },
  {
   "cell_type": "code",
   "execution_count": 5,
   "metadata": {},
   "outputs": [
    {
     "data": {
      "text/html": [
       "<div>\n",
       "<style scoped>\n",
       "    .dataframe tbody tr th:only-of-type {\n",
       "        vertical-align: middle;\n",
       "    }\n",
       "\n",
       "    .dataframe tbody tr th {\n",
       "        vertical-align: top;\n",
       "    }\n",
       "\n",
       "    .dataframe thead th {\n",
       "        text-align: right;\n",
       "    }\n",
       "</style>\n",
       "<table border=\"1\" class=\"dataframe\">\n",
       "  <thead>\n",
       "    <tr style=\"text-align: right;\">\n",
       "      <th></th>\n",
       "      <th>rating_id</th>\n",
       "      <th>book_id</th>\n",
       "      <th>username</th>\n",
       "      <th>rating</th>\n",
       "    </tr>\n",
       "  </thead>\n",
       "  <tbody>\n",
       "    <tr>\n",
       "      <th>0</th>\n",
       "      <td>1</td>\n",
       "      <td>1</td>\n",
       "      <td>ryanfranco</td>\n",
       "      <td>4</td>\n",
       "    </tr>\n",
       "    <tr>\n",
       "      <th>1</th>\n",
       "      <td>2</td>\n",
       "      <td>1</td>\n",
       "      <td>grantpatricia</td>\n",
       "      <td>2</td>\n",
       "    </tr>\n",
       "    <tr>\n",
       "      <th>2</th>\n",
       "      <td>3</td>\n",
       "      <td>1</td>\n",
       "      <td>brandtandrea</td>\n",
       "      <td>5</td>\n",
       "    </tr>\n",
       "    <tr>\n",
       "      <th>3</th>\n",
       "      <td>4</td>\n",
       "      <td>2</td>\n",
       "      <td>lorichen</td>\n",
       "      <td>3</td>\n",
       "    </tr>\n",
       "    <tr>\n",
       "      <th>4</th>\n",
       "      <td>5</td>\n",
       "      <td>2</td>\n",
       "      <td>mariokeller</td>\n",
       "      <td>2</td>\n",
       "    </tr>\n",
       "    <tr>\n",
       "      <th>5</th>\n",
       "      <td>6</td>\n",
       "      <td>3</td>\n",
       "      <td>johnsonamanda</td>\n",
       "      <td>4</td>\n",
       "    </tr>\n",
       "    <tr>\n",
       "      <th>6</th>\n",
       "      <td>7</td>\n",
       "      <td>3</td>\n",
       "      <td>scotttamara</td>\n",
       "      <td>5</td>\n",
       "    </tr>\n",
       "    <tr>\n",
       "      <th>7</th>\n",
       "      <td>8</td>\n",
       "      <td>3</td>\n",
       "      <td>lesliegibbs</td>\n",
       "      <td>5</td>\n",
       "    </tr>\n",
       "    <tr>\n",
       "      <th>8</th>\n",
       "      <td>9</td>\n",
       "      <td>4</td>\n",
       "      <td>abbottjames</td>\n",
       "      <td>5</td>\n",
       "    </tr>\n",
       "    <tr>\n",
       "      <th>9</th>\n",
       "      <td>10</td>\n",
       "      <td>4</td>\n",
       "      <td>valenciaanne</td>\n",
       "      <td>4</td>\n",
       "    </tr>\n",
       "  </tbody>\n",
       "</table>\n",
       "</div>"
      ],
      "text/plain": [
       "   rating_id  book_id       username  rating\n",
       "0          1        1     ryanfranco       4\n",
       "1          2        1  grantpatricia       2\n",
       "2          3        1   brandtandrea       5\n",
       "3          4        2       lorichen       3\n",
       "4          5        2    mariokeller       2\n",
       "5          6        3  johnsonamanda       4\n",
       "6          7        3    scotttamara       5\n",
       "7          8        3    lesliegibbs       5\n",
       "8          9        4    abbottjames       5\n",
       "9         10        4   valenciaanne       4"
      ]
     },
     "execution_count": 5,
     "metadata": {},
     "output_type": "execute_result"
    }
   ],
   "source": [
    "query= \"\"\"\n",
    "SELECT * FROM ratings LIMIT 10;\n",
    "\"\"\"\n",
    "ratings= pd.io.sql.read_sql(query, con = engine)\n",
    "\n",
    "ratings"
   ]
  },
  {
   "cell_type": "markdown",
   "metadata": {},
   "source": [
    "### <a id='toc3_1_5_'></a>[Tabla reviews](#toc0_)"
   ]
  },
  {
   "cell_type": "code",
   "execution_count": 6,
   "metadata": {},
   "outputs": [
    {
     "data": {
      "text/html": [
       "<div>\n",
       "<style scoped>\n",
       "    .dataframe tbody tr th:only-of-type {\n",
       "        vertical-align: middle;\n",
       "    }\n",
       "\n",
       "    .dataframe tbody tr th {\n",
       "        vertical-align: top;\n",
       "    }\n",
       "\n",
       "    .dataframe thead th {\n",
       "        text-align: right;\n",
       "    }\n",
       "</style>\n",
       "<table border=\"1\" class=\"dataframe\">\n",
       "  <thead>\n",
       "    <tr style=\"text-align: right;\">\n",
       "      <th></th>\n",
       "      <th>review_id</th>\n",
       "      <th>book_id</th>\n",
       "      <th>username</th>\n",
       "      <th>text</th>\n",
       "    </tr>\n",
       "  </thead>\n",
       "  <tbody>\n",
       "    <tr>\n",
       "      <th>0</th>\n",
       "      <td>1</td>\n",
       "      <td>1</td>\n",
       "      <td>brandtandrea</td>\n",
       "      <td>Mention society tell send professor analysis. ...</td>\n",
       "    </tr>\n",
       "    <tr>\n",
       "      <th>1</th>\n",
       "      <td>2</td>\n",
       "      <td>1</td>\n",
       "      <td>ryanfranco</td>\n",
       "      <td>Foot glass pretty audience hit themselves. Amo...</td>\n",
       "    </tr>\n",
       "    <tr>\n",
       "      <th>2</th>\n",
       "      <td>3</td>\n",
       "      <td>2</td>\n",
       "      <td>lorichen</td>\n",
       "      <td>Listen treat keep worry. Miss husband tax but ...</td>\n",
       "    </tr>\n",
       "    <tr>\n",
       "      <th>3</th>\n",
       "      <td>4</td>\n",
       "      <td>3</td>\n",
       "      <td>johnsonamanda</td>\n",
       "      <td>Finally month interesting blue could nature cu...</td>\n",
       "    </tr>\n",
       "    <tr>\n",
       "      <th>4</th>\n",
       "      <td>5</td>\n",
       "      <td>3</td>\n",
       "      <td>scotttamara</td>\n",
       "      <td>Nation purpose heavy give wait song will. List...</td>\n",
       "    </tr>\n",
       "    <tr>\n",
       "      <th>5</th>\n",
       "      <td>6</td>\n",
       "      <td>3</td>\n",
       "      <td>lesliegibbs</td>\n",
       "      <td>Analysis no several cause international.</td>\n",
       "    </tr>\n",
       "    <tr>\n",
       "      <th>6</th>\n",
       "      <td>7</td>\n",
       "      <td>4</td>\n",
       "      <td>valenciaanne</td>\n",
       "      <td>One there cost another. Say type save. With pe...</td>\n",
       "    </tr>\n",
       "    <tr>\n",
       "      <th>7</th>\n",
       "      <td>8</td>\n",
       "      <td>4</td>\n",
       "      <td>abbottjames</td>\n",
       "      <td>Within enough mother. There at system full rec...</td>\n",
       "    </tr>\n",
       "    <tr>\n",
       "      <th>8</th>\n",
       "      <td>9</td>\n",
       "      <td>5</td>\n",
       "      <td>npowers</td>\n",
       "      <td>Thank now focus realize economy focus fly. Ite...</td>\n",
       "    </tr>\n",
       "    <tr>\n",
       "      <th>9</th>\n",
       "      <td>10</td>\n",
       "      <td>5</td>\n",
       "      <td>staylor</td>\n",
       "      <td>Game push lot reduce where remember. Including...</td>\n",
       "    </tr>\n",
       "  </tbody>\n",
       "</table>\n",
       "</div>"
      ],
      "text/plain": [
       "   review_id  book_id       username  \\\n",
       "0          1        1   brandtandrea   \n",
       "1          2        1     ryanfranco   \n",
       "2          3        2       lorichen   \n",
       "3          4        3  johnsonamanda   \n",
       "4          5        3    scotttamara   \n",
       "5          6        3    lesliegibbs   \n",
       "6          7        4   valenciaanne   \n",
       "7          8        4    abbottjames   \n",
       "8          9        5        npowers   \n",
       "9         10        5        staylor   \n",
       "\n",
       "                                                text  \n",
       "0  Mention society tell send professor analysis. ...  \n",
       "1  Foot glass pretty audience hit themselves. Amo...  \n",
       "2  Listen treat keep worry. Miss husband tax but ...  \n",
       "3  Finally month interesting blue could nature cu...  \n",
       "4  Nation purpose heavy give wait song will. List...  \n",
       "5           Analysis no several cause international.  \n",
       "6  One there cost another. Say type save. With pe...  \n",
       "7  Within enough mother. There at system full rec...  \n",
       "8  Thank now focus realize economy focus fly. Ite...  \n",
       "9  Game push lot reduce where remember. Including...  "
      ]
     },
     "execution_count": 6,
     "metadata": {},
     "output_type": "execute_result"
    }
   ],
   "source": [
    "query= \"\"\"\n",
    "SELECT * FROM reviews LIMIT 10;\n",
    "\"\"\"\n",
    "reviews= pd.io.sql.read_sql(query, con = engine)\n",
    "\n",
    "reviews"
   ]
  },
  {
   "cell_type": "markdown",
   "metadata": {},
   "source": [
    "## <a id='toc3_2_'></a>[Número de libros publicados después del 1 de enero de 2000.](#toc0_)"
   ]
  },
  {
   "cell_type": "code",
   "execution_count": 7,
   "metadata": {},
   "outputs": [
    {
     "data": {
      "text/html": [
       "<div>\n",
       "<style scoped>\n",
       "    .dataframe tbody tr th:only-of-type {\n",
       "        vertical-align: middle;\n",
       "    }\n",
       "\n",
       "    .dataframe tbody tr th {\n",
       "        vertical-align: top;\n",
       "    }\n",
       "\n",
       "    .dataframe thead th {\n",
       "        text-align: right;\n",
       "    }\n",
       "</style>\n",
       "<table border=\"1\" class=\"dataframe\">\n",
       "  <thead>\n",
       "    <tr style=\"text-align: right;\">\n",
       "      <th></th>\n",
       "      <th>num_books_after_2000</th>\n",
       "    </tr>\n",
       "  </thead>\n",
       "  <tbody>\n",
       "    <tr>\n",
       "      <th>0</th>\n",
       "      <td>819</td>\n",
       "    </tr>\n",
       "  </tbody>\n",
       "</table>\n",
       "</div>"
      ],
      "text/plain": [
       "   num_books_after_2000\n",
       "0                   819"
      ]
     },
     "execution_count": 7,
     "metadata": {},
     "output_type": "execute_result"
    }
   ],
   "source": [
    "query = \"\"\"\n",
    "SELECT COUNT(book_id) AS num_books_after_2000\n",
    "FROM books\n",
    "WHERE publication_date > '2000-01-01';\n",
    "\"\"\"\n",
    "books_after_2000 = pd.read_sql(query, engine)\n",
    "books_after_2000"
   ]
  },
  {
   "cell_type": "markdown",
   "metadata": {},
   "source": [
    "Conclusiones: se han publicado 819 libros desde el 1 de enero de 2000. "
   ]
  },
  {
   "cell_type": "markdown",
   "metadata": {},
   "source": [
    "## <a id='toc3_3_'></a>[Número de reseñas y calificación promedio para cada libro](#toc0_)"
   ]
  },
  {
   "cell_type": "code",
   "execution_count": 8,
   "metadata": {},
   "outputs": [
    {
     "data": {
      "text/html": [
       "<div>\n",
       "<style scoped>\n",
       "    .dataframe tbody tr th:only-of-type {\n",
       "        vertical-align: middle;\n",
       "    }\n",
       "\n",
       "    .dataframe tbody tr th {\n",
       "        vertical-align: top;\n",
       "    }\n",
       "\n",
       "    .dataframe thead th {\n",
       "        text-align: right;\n",
       "    }\n",
       "</style>\n",
       "<table border=\"1\" class=\"dataframe\">\n",
       "  <thead>\n",
       "    <tr style=\"text-align: right;\">\n",
       "      <th></th>\n",
       "      <th>book_id</th>\n",
       "      <th>n_reviews</th>\n",
       "      <th>avg_rating</th>\n",
       "    </tr>\n",
       "  </thead>\n",
       "  <tbody>\n",
       "    <tr>\n",
       "      <th>0</th>\n",
       "      <td>652</td>\n",
       "      <td>2</td>\n",
       "      <td>4.500000</td>\n",
       "    </tr>\n",
       "    <tr>\n",
       "      <th>1</th>\n",
       "      <td>273</td>\n",
       "      <td>2</td>\n",
       "      <td>4.500000</td>\n",
       "    </tr>\n",
       "    <tr>\n",
       "      <th>2</th>\n",
       "      <td>51</td>\n",
       "      <td>5</td>\n",
       "      <td>4.250000</td>\n",
       "    </tr>\n",
       "    <tr>\n",
       "      <th>3</th>\n",
       "      <td>951</td>\n",
       "      <td>2</td>\n",
       "      <td>4.000000</td>\n",
       "    </tr>\n",
       "    <tr>\n",
       "      <th>4</th>\n",
       "      <td>839</td>\n",
       "      <td>4</td>\n",
       "      <td>4.285714</td>\n",
       "    </tr>\n",
       "    <tr>\n",
       "      <th>...</th>\n",
       "      <td>...</td>\n",
       "      <td>...</td>\n",
       "      <td>...</td>\n",
       "    </tr>\n",
       "    <tr>\n",
       "      <th>995</th>\n",
       "      <td>64</td>\n",
       "      <td>4</td>\n",
       "      <td>4.230769</td>\n",
       "    </tr>\n",
       "    <tr>\n",
       "      <th>996</th>\n",
       "      <td>55</td>\n",
       "      <td>2</td>\n",
       "      <td>5.000000</td>\n",
       "    </tr>\n",
       "    <tr>\n",
       "      <th>997</th>\n",
       "      <td>148</td>\n",
       "      <td>3</td>\n",
       "      <td>3.428571</td>\n",
       "    </tr>\n",
       "    <tr>\n",
       "      <th>998</th>\n",
       "      <td>790</td>\n",
       "      <td>2</td>\n",
       "      <td>3.500000</td>\n",
       "    </tr>\n",
       "    <tr>\n",
       "      <th>999</th>\n",
       "      <td>828</td>\n",
       "      <td>2</td>\n",
       "      <td>3.000000</td>\n",
       "    </tr>\n",
       "  </tbody>\n",
       "</table>\n",
       "<p>1000 rows × 3 columns</p>\n",
       "</div>"
      ],
      "text/plain": [
       "     book_id  n_reviews  avg_rating\n",
       "0        652          2    4.500000\n",
       "1        273          2    4.500000\n",
       "2         51          5    4.250000\n",
       "3        951          2    4.000000\n",
       "4        839          4    4.285714\n",
       "..       ...        ...         ...\n",
       "995       64          4    4.230769\n",
       "996       55          2    5.000000\n",
       "997      148          3    3.428571\n",
       "998      790          2    3.500000\n",
       "999      828          2    3.000000\n",
       "\n",
       "[1000 rows x 3 columns]"
      ]
     },
     "execution_count": 8,
     "metadata": {},
     "output_type": "execute_result"
    }
   ],
   "source": [
    "query = \"\"\"\n",
    "SELECT \n",
    "    b.book_id,\n",
    "    CASE WHEN review.n_reviews IS NULL THEN 0 ELSE review.n_reviews END AS n_reviews,\n",
    "    rating.avg_rating\n",
    "FROM \n",
    "    books b\n",
    "LEFT JOIN (\n",
    "    SELECT \n",
    "        book_id,\n",
    "        COUNT(review_id) AS n_reviews\n",
    "    FROM reviews\n",
    "    GROUP BY book_id\n",
    ") AS review\n",
    "    ON review.book_id = b.book_id\n",
    "LEFT JOIN (\n",
    "    SELECT \n",
    "        book_id,\n",
    "        AVG(rating) AS avg_rating\n",
    "    FROM ratings\n",
    "    GROUP BY book_id\n",
    ") AS rating\n",
    "    ON rating.book_id = b.book_id\n",
    "\"\"\"\n",
    "book_reviews_ratings = pd.read_sql(query, engine)\n",
    "book_reviews_ratings"
   ]
  },
  {
   "cell_type": "markdown",
   "metadata": {},
   "source": [
    "Conclusion: el numero de reviews dependera del libro, pero se puede notar que minimo se tienen 2 reviews por libro, pero no se puede garantizar una tendencia."
   ]
  },
  {
   "cell_type": "markdown",
   "metadata": {},
   "source": [
    "## <a id='toc3_4_'></a>[Editorial que ha publicado el mayor número de libros con más de 50 páginas](#toc0_)"
   ]
  },
  {
   "cell_type": "code",
   "execution_count": 9,
   "metadata": {},
   "outputs": [
    {
     "data": {
      "text/html": [
       "<div>\n",
       "<style scoped>\n",
       "    .dataframe tbody tr th:only-of-type {\n",
       "        vertical-align: middle;\n",
       "    }\n",
       "\n",
       "    .dataframe tbody tr th {\n",
       "        vertical-align: top;\n",
       "    }\n",
       "\n",
       "    .dataframe thead th {\n",
       "        text-align: right;\n",
       "    }\n",
       "</style>\n",
       "<table border=\"1\" class=\"dataframe\">\n",
       "  <thead>\n",
       "    <tr style=\"text-align: right;\">\n",
       "      <th></th>\n",
       "      <th>publisher</th>\n",
       "      <th>n_books</th>\n",
       "    </tr>\n",
       "  </thead>\n",
       "  <tbody>\n",
       "    <tr>\n",
       "      <th>0</th>\n",
       "      <td>Penguin Books</td>\n",
       "      <td>42</td>\n",
       "    </tr>\n",
       "  </tbody>\n",
       "</table>\n",
       "</div>"
      ],
      "text/plain": [
       "       publisher  n_books\n",
       "0  Penguin Books       42"
      ]
     },
     "execution_count": 9,
     "metadata": {},
     "output_type": "execute_result"
    }
   ],
   "source": [
    "query = \"\"\"\n",
    "SELECT \n",
    "    p.publisher,\n",
    "    COUNT(b.book_id) AS n_books\n",
    "FROM \n",
    "    books b\n",
    "LEFT JOIN \n",
    "    publishers AS p \n",
    "    ON b.publisher_id = p.publisher_id\n",
    "WHERE \n",
    "    b.num_pages > 50\n",
    "GROUP BY p.publisher\n",
    "ORDER BY n_books DESC\n",
    "LIMIT 1;\n",
    "\"\"\"\n",
    "top_publisher = pd.read_sql(query, engine)\n",
    "top_publisher"
   ]
  },
  {
   "cell_type": "markdown",
   "metadata": {},
   "source": [
    "Conclusion: La editorial Penguin es la que ha publicado la mayor cantidad de libros que contienen mas de 50 paginas, en total ha publicado 42 libros, por lo que es una editorial que se enfoca mas en publicaciones extensas que excluyen folletos o historias cortas. "
   ]
  },
  {
   "cell_type": "markdown",
   "metadata": {},
   "source": [
    "## <a id='toc3_5_'></a>[Autor con la Calificación Promedio Más Alta de Sus Libros (Con al Menos 50 Calificaciones)](#toc0_)"
   ]
  },
  {
   "cell_type": "code",
   "execution_count": 10,
   "metadata": {},
   "outputs": [
    {
     "data": {
      "text/html": [
       "<div>\n",
       "<style scoped>\n",
       "    .dataframe tbody tr th:only-of-type {\n",
       "        vertical-align: middle;\n",
       "    }\n",
       "\n",
       "    .dataframe tbody tr th {\n",
       "        vertical-align: top;\n",
       "    }\n",
       "\n",
       "    .dataframe thead th {\n",
       "        text-align: right;\n",
       "    }\n",
       "</style>\n",
       "<table border=\"1\" class=\"dataframe\">\n",
       "  <thead>\n",
       "    <tr style=\"text-align: right;\">\n",
       "      <th></th>\n",
       "      <th>author</th>\n",
       "      <th>avg_author_rating</th>\n",
       "    </tr>\n",
       "  </thead>\n",
       "  <tbody>\n",
       "    <tr>\n",
       "      <th>0</th>\n",
       "      <td>J.K. Rowling/Mary GrandPré</td>\n",
       "      <td>4.283844</td>\n",
       "    </tr>\n",
       "  </tbody>\n",
       "</table>\n",
       "</div>"
      ],
      "text/plain": [
       "                       author  avg_author_rating\n",
       "0  J.K. Rowling/Mary GrandPré           4.283844"
      ]
     },
     "execution_count": 10,
     "metadata": {},
     "output_type": "execute_result"
    }
   ],
   "source": [
    "query = \"\"\"\n",
    "WITH book_ratings AS (\n",
    "    SELECT \n",
    "        b.author_id,\n",
    "        b.book_id,\n",
    "        COUNT(r.rating_id) AS num_ratings,\n",
    "        AVG(r.rating) AS avg_rating\n",
    "    FROM books AS b\n",
    "    LEFT JOIN ratings AS r\n",
    "        ON b.book_id = r.book_id\n",
    "    GROUP BY b.author_id, b.book_id\n",
    "    HAVING COUNT(r.rating_id) >= 50\n",
    "),\n",
    "author_ratings AS (\n",
    "    SELECT \n",
    "        a.author,\n",
    "        AVG(br.avg_rating) AS avg_author_rating\n",
    "    FROM book_ratings AS br\n",
    "    LEFT JOIN authors AS a \n",
    "        ON br.author_id = a.author_id\n",
    "    GROUP BY a.author\n",
    ")\n",
    "SELECT \n",
    "    author, \n",
    "    avg_author_rating\n",
    "FROM author_ratings\n",
    "ORDER BY avg_author_rating DESC\n",
    "LIMIT 1;\n",
    "\"\"\"\n",
    "\n",
    "df_top_author = pd.read_sql(query, engine)\n",
    "df_top_author"
   ]
  },
  {
   "cell_type": "markdown",
   "metadata": {},
   "source": [
    "Conclusion: El autor con la calificacion promedio mas alta es J.K Rowling con un rating promedio de 4.28. Esto desmuestra que esta autora tiene una gran recepcion a su trabajo por parte del publico."
   ]
  },
  {
   "cell_type": "markdown",
   "metadata": {},
   "source": [
    "## <a id='toc3_6_'></a>[Número Promedio de Reseñas de Texto entre Usuarios que Calificaron Más de 50 Libros](#toc0_)"
   ]
  },
  {
   "cell_type": "code",
   "execution_count": 11,
   "metadata": {},
   "outputs": [
    {
     "data": {
      "text/html": [
       "<div>\n",
       "<style scoped>\n",
       "    .dataframe tbody tr th:only-of-type {\n",
       "        vertical-align: middle;\n",
       "    }\n",
       "\n",
       "    .dataframe tbody tr th {\n",
       "        vertical-align: top;\n",
       "    }\n",
       "\n",
       "    .dataframe thead th {\n",
       "        text-align: right;\n",
       "    }\n",
       "</style>\n",
       "<table border=\"1\" class=\"dataframe\">\n",
       "  <thead>\n",
       "    <tr style=\"text-align: right;\">\n",
       "      <th></th>\n",
       "      <th>avg_reviews_per_user</th>\n",
       "    </tr>\n",
       "  </thead>\n",
       "  <tbody>\n",
       "    <tr>\n",
       "      <th>0</th>\n",
       "      <td>24.333333</td>\n",
       "    </tr>\n",
       "  </tbody>\n",
       "</table>\n",
       "</div>"
      ],
      "text/plain": [
       "   avg_reviews_per_user\n",
       "0             24.333333"
      ]
     },
     "execution_count": 11,
     "metadata": {},
     "output_type": "execute_result"
    }
   ],
   "source": [
    "query = \"\"\"\n",
    "WITH user_ratings AS (\n",
    "    SELECT \n",
    "        username,\n",
    "        COUNT(book_id) AS n_reviews\n",
    "    FROM ratings AS r\n",
    "    GROUP BY username\n",
    "    HAVING COUNT(book_id) > 50\n",
    "),\n",
    "user_reviews AS (\n",
    "    SELECT \n",
    "        r.username,\n",
    "        COUNT(r.review_id) AS n_reviews\n",
    "    FROM user_ratings AS ur\n",
    "    LEFT JOIN reviews AS r\n",
    "        ON ur.username = r.username\n",
    "    GROUP BY r.username\n",
    ")\n",
    "SELECT \n",
    "    AVG(n_reviews) AS avg_reviews_per_user\n",
    "FROM user_reviews AS ur;\n",
    "\"\"\"\n",
    "avg_reviews_per_user = pd.read_sql(query, engine)\n",
    "\n",
    "avg_reviews_per_user"
   ]
  },
  {
   "cell_type": "markdown",
   "metadata": {},
   "source": [
    "Conclusion: Los usuarios que calificaron mas de 50 libros dejan en promedio 24 reseñas de texto, por lo cual se puede notar que tienen una gran participacion. "
   ]
  }
 ],
 "metadata": {
  "ExecuteTimeLog": [
   {
    "duration": 15,
    "start_time": "2024-07-22T23:31:48.120Z"
   },
   {
    "duration": 3,
    "start_time": "2024-07-22T23:32:50.837Z"
   },
   {
    "duration": 4974,
    "start_time": "2024-07-22T23:33:07.173Z"
   },
   {
    "duration": 24,
    "start_time": "2024-07-22T23:33:51.819Z"
   },
   {
    "duration": 29,
    "start_time": "2024-07-22T23:33:57.477Z"
   },
   {
    "duration": 24,
    "start_time": "2024-07-22T23:39:31.165Z"
   },
   {
    "duration": 57,
    "start_time": "2024-07-22T23:44:24.404Z"
   },
   {
    "duration": 207,
    "start_time": "2024-07-22T23:45:33.917Z"
   },
   {
    "duration": 7,
    "start_time": "2024-07-22T23:45:40.894Z"
   },
   {
    "duration": 9,
    "start_time": "2024-07-22T23:47:21.350Z"
   },
   {
    "duration": 20,
    "start_time": "2024-07-22T23:56:19.722Z"
   },
   {
    "duration": 12,
    "start_time": "2024-07-22T23:57:05.858Z"
   },
   {
    "duration": 20,
    "start_time": "2024-07-22T23:59:59.850Z"
   },
   {
    "duration": 875,
    "start_time": "2024-07-23T00:04:22.066Z"
   },
   {
    "duration": 214,
    "start_time": "2024-07-23T00:04:30.405Z"
   },
   {
    "duration": 5,
    "start_time": "2024-07-23T00:10:25.205Z"
   },
   {
    "duration": 61,
    "start_time": "2024-07-23T00:10:26.792Z"
   },
   {
    "duration": 7,
    "start_time": "2024-07-23T00:10:27.245Z"
   },
   {
    "duration": 9,
    "start_time": "2024-07-23T00:10:27.800Z"
   },
   {
    "duration": 12,
    "start_time": "2024-07-23T00:10:28.328Z"
   },
   {
    "duration": 21,
    "start_time": "2024-07-23T00:10:34.367Z"
   },
   {
    "duration": 219,
    "start_time": "2024-07-23T00:10:39.575Z"
   },
   {
    "duration": 426,
    "start_time": "2024-07-23T00:13:50.046Z"
   },
   {
    "duration": 670,
    "start_time": "2024-07-23T00:14:44.977Z"
   },
   {
    "duration": 220,
    "start_time": "2024-07-23T00:15:58.349Z"
   },
   {
    "duration": 376,
    "start_time": "2024-07-23T00:16:28.364Z"
   },
   {
    "duration": 341,
    "start_time": "2024-07-23T00:29:46.945Z"
   },
   {
    "duration": 7,
    "start_time": "2024-07-23T00:29:57.407Z"
   },
   {
    "duration": 26,
    "start_time": "2024-07-23T00:30:56.263Z"
   },
   {
    "duration": 5,
    "start_time": "2024-07-23T00:31:08.713Z"
   },
   {
    "duration": 50,
    "start_time": "2024-07-23T00:39:33.082Z"
   },
   {
    "duration": 474,
    "start_time": "2024-07-23T00:39:50.054Z"
   },
   {
    "duration": 104,
    "start_time": "2024-07-23T00:40:13.434Z"
   },
   {
    "duration": 5,
    "start_time": "2024-07-23T00:55:35.160Z"
   },
   {
    "duration": 102,
    "start_time": "2024-07-23T00:55:39.035Z"
   },
   {
    "duration": 395,
    "start_time": "2024-07-23T00:58:40.149Z"
   },
   {
    "duration": 18,
    "start_time": "2024-07-23T01:03:29.948Z"
   },
   {
    "duration": 4,
    "start_time": "2024-07-23T01:07:58.285Z"
   },
   {
    "duration": 4,
    "start_time": "2024-07-23T01:08:18.150Z"
   },
   {
    "duration": 10,
    "start_time": "2024-07-23T01:09:58.051Z"
   },
   {
    "duration": 38,
    "start_time": "2024-07-23T01:10:32.189Z"
   },
   {
    "duration": 1385,
    "start_time": "2024-07-23T01:10:56.184Z"
   },
   {
    "duration": 16,
    "start_time": "2024-07-23T01:10:57.572Z"
   },
   {
    "duration": 38,
    "start_time": "2024-07-23T01:10:57.591Z"
   },
   {
    "duration": 4,
    "start_time": "2024-07-23T01:10:57.633Z"
   },
   {
    "duration": 82,
    "start_time": "2024-07-23T01:10:57.641Z"
   },
   {
    "duration": 8,
    "start_time": "2024-07-23T01:10:57.725Z"
   },
   {
    "duration": 9,
    "start_time": "2024-07-23T01:10:57.736Z"
   },
   {
    "duration": 13,
    "start_time": "2024-07-23T01:10:57.749Z"
   },
   {
    "duration": 65,
    "start_time": "2024-07-23T01:10:57.766Z"
   },
   {
    "duration": 233,
    "start_time": "2024-07-23T01:10:57.837Z"
   },
   {
    "duration": 491,
    "start_time": "2024-07-23T01:10:58.073Z"
   },
   {
    "duration": 396,
    "start_time": "2024-07-23T01:10:58.567Z"
   },
   {
    "duration": 643,
    "start_time": "2024-07-23T01:10:58.966Z"
   },
   {
    "duration": 243,
    "start_time": "2024-07-23T01:10:59.612Z"
   },
   {
    "duration": 24,
    "start_time": "2024-07-23T01:10:59.858Z"
   },
   {
    "duration": 585,
    "start_time": "2024-07-23T01:10:59.885Z"
   },
   {
    "duration": 0,
    "start_time": "2024-07-23T01:11:00.473Z"
   },
   {
    "duration": 0,
    "start_time": "2024-07-23T01:11:00.475Z"
   },
   {
    "duration": 0,
    "start_time": "2024-07-23T01:11:00.477Z"
   },
   {
    "duration": 0,
    "start_time": "2024-07-23T01:11:00.478Z"
   },
   {
    "duration": 0,
    "start_time": "2024-07-23T01:11:00.480Z"
   },
   {
    "duration": 1373,
    "start_time": "2024-07-23T01:11:39.518Z"
   },
   {
    "duration": 5,
    "start_time": "2024-07-23T01:12:55.546Z"
   },
   {
    "duration": 4,
    "start_time": "2024-07-23T01:13:01.854Z"
   },
   {
    "duration": 24,
    "start_time": "2024-07-23T01:13:18.886Z"
   },
   {
    "duration": 9,
    "start_time": "2024-07-23T01:13:34.090Z"
   },
   {
    "duration": 166,
    "start_time": "2024-07-23T01:13:50.879Z"
   },
   {
    "duration": 9,
    "start_time": "2024-07-23T01:14:08.060Z"
   },
   {
    "duration": 8,
    "start_time": "2024-07-23T01:14:42.553Z"
   },
   {
    "duration": 496,
    "start_time": "2024-07-23T01:14:44.895Z"
   },
   {
    "duration": 6,
    "start_time": "2024-07-23T01:14:45.607Z"
   },
   {
    "duration": 108,
    "start_time": "2024-07-23T01:14:46.288Z"
   },
   {
    "duration": 333,
    "start_time": "2024-07-23T01:14:47.271Z"
   },
   {
    "duration": 21,
    "start_time": "2024-07-23T01:14:48.239Z"
   },
   {
    "duration": 4,
    "start_time": "2024-07-23T01:17:01.733Z"
   },
   {
    "duration": 214,
    "start_time": "2024-07-23T01:17:06.921Z"
   },
   {
    "duration": 5,
    "start_time": "2024-07-23T01:17:10.599Z"
   },
   {
    "duration": 470,
    "start_time": "2024-07-23T01:18:13.846Z"
   },
   {
    "duration": 7,
    "start_time": "2024-07-23T01:19:02.524Z"
   },
   {
    "duration": 150,
    "start_time": "2024-07-23T01:19:54.386Z"
   },
   {
    "duration": 7,
    "start_time": "2024-07-23T01:20:28.218Z"
   },
   {
    "duration": 100,
    "start_time": "2024-07-23T01:21:06.035Z"
   },
   {
    "duration": 298,
    "start_time": "2024-07-23T01:21:40.395Z"
   },
   {
    "duration": 20,
    "start_time": "2024-07-23T01:23:09.616Z"
   },
   {
    "duration": 1421,
    "start_time": "2024-07-23T01:24:25.432Z"
   },
   {
    "duration": 16,
    "start_time": "2024-07-23T01:24:26.857Z"
   },
   {
    "duration": 21,
    "start_time": "2024-07-23T01:24:26.876Z"
   },
   {
    "duration": 23,
    "start_time": "2024-07-23T01:24:26.901Z"
   },
   {
    "duration": 61,
    "start_time": "2024-07-23T01:24:26.926Z"
   },
   {
    "duration": 36,
    "start_time": "2024-07-23T01:24:26.990Z"
   },
   {
    "duration": 13,
    "start_time": "2024-07-23T01:24:27.029Z"
   },
   {
    "duration": 13,
    "start_time": "2024-07-23T01:24:27.046Z"
   },
   {
    "duration": 61,
    "start_time": "2024-07-23T01:24:27.063Z"
   },
   {
    "duration": 249,
    "start_time": "2024-07-23T01:24:27.130Z"
   },
   {
    "duration": 480,
    "start_time": "2024-07-23T01:24:27.386Z"
   },
   {
    "duration": 397,
    "start_time": "2024-07-23T01:24:27.869Z"
   },
   {
    "duration": 640,
    "start_time": "2024-07-23T01:24:28.269Z"
   },
   {
    "duration": 223,
    "start_time": "2024-07-23T01:24:28.912Z"
   },
   {
    "duration": 9,
    "start_time": "2024-07-23T01:24:29.137Z"
   },
   {
    "duration": 26,
    "start_time": "2024-07-23T01:24:29.149Z"
   },
   {
    "duration": 254,
    "start_time": "2024-07-23T01:24:29.178Z"
   },
   {
    "duration": 88,
    "start_time": "2024-07-23T01:24:29.435Z"
   },
   {
    "duration": 5,
    "start_time": "2024-07-23T01:24:29.525Z"
   },
   {
    "duration": 615,
    "start_time": "2024-07-23T01:24:29.533Z"
   },
   {
    "duration": 0,
    "start_time": "2024-07-23T01:24:30.154Z"
   },
   {
    "duration": 0,
    "start_time": "2024-07-23T01:24:30.156Z"
   },
   {
    "duration": 0,
    "start_time": "2024-07-23T01:24:30.158Z"
   },
   {
    "duration": 0,
    "start_time": "2024-07-23T01:24:30.160Z"
   },
   {
    "duration": 0,
    "start_time": "2024-07-23T01:24:30.162Z"
   },
   {
    "duration": 0,
    "start_time": "2024-07-23T01:24:30.164Z"
   },
   {
    "duration": 663,
    "start_time": "2024-07-23T01:25:20.619Z"
   },
   {
    "duration": 140,
    "start_time": "2024-07-23T01:25:34.940Z"
   },
   {
    "duration": 194,
    "start_time": "2024-07-23T01:25:42.949Z"
   },
   {
    "duration": 27,
    "start_time": "2024-07-23T01:26:24.646Z"
   },
   {
    "duration": 31,
    "start_time": "2024-07-23T01:26:37.099Z"
   },
   {
    "duration": 470,
    "start_time": "2024-07-23T01:26:38.391Z"
   },
   {
    "duration": 191,
    "start_time": "2024-07-23T01:26:39.145Z"
   },
   {
    "duration": 35,
    "start_time": "2024-07-23T01:26:45.040Z"
   },
   {
    "duration": 110,
    "start_time": "2024-07-23T01:26:49.298Z"
   },
   {
    "duration": 101,
    "start_time": "2024-07-23T01:27:17.781Z"
   },
   {
    "duration": 325,
    "start_time": "2024-07-23T01:27:21.320Z"
   },
   {
    "duration": 16,
    "start_time": "2024-07-23T01:27:24.780Z"
   },
   {
    "duration": 4,
    "start_time": "2024-07-23T01:27:35.102Z"
   },
   {
    "duration": 100,
    "start_time": "2024-07-23T01:27:37.438Z"
   },
   {
    "duration": 16,
    "start_time": "2024-07-23T01:27:40.284Z"
   },
   {
    "duration": 1411,
    "start_time": "2024-07-23T01:27:52.077Z"
   },
   {
    "duration": 16,
    "start_time": "2024-07-23T01:27:53.493Z"
   },
   {
    "duration": 27,
    "start_time": "2024-07-23T01:27:53.512Z"
   },
   {
    "duration": 5,
    "start_time": "2024-07-23T01:27:53.542Z"
   },
   {
    "duration": 90,
    "start_time": "2024-07-23T01:27:53.553Z"
   },
   {
    "duration": 7,
    "start_time": "2024-07-23T01:27:53.645Z"
   },
   {
    "duration": 10,
    "start_time": "2024-07-23T01:27:53.655Z"
   },
   {
    "duration": 12,
    "start_time": "2024-07-23T01:27:53.667Z"
   },
   {
    "duration": 58,
    "start_time": "2024-07-23T01:27:53.682Z"
   },
   {
    "duration": 244,
    "start_time": "2024-07-23T01:27:53.743Z"
   },
   {
    "duration": 486,
    "start_time": "2024-07-23T01:27:53.990Z"
   },
   {
    "duration": 396,
    "start_time": "2024-07-23T01:27:54.479Z"
   },
   {
    "duration": 651,
    "start_time": "2024-07-23T01:27:54.877Z"
   },
   {
    "duration": 233,
    "start_time": "2024-07-23T01:27:55.534Z"
   },
   {
    "duration": 10,
    "start_time": "2024-07-23T01:27:55.770Z"
   },
   {
    "duration": 40,
    "start_time": "2024-07-23T01:27:55.783Z"
   },
   {
    "duration": 217,
    "start_time": "2024-07-23T01:27:55.825Z"
   },
   {
    "duration": 83,
    "start_time": "2024-07-23T01:27:56.044Z"
   },
   {
    "duration": 8,
    "start_time": "2024-07-23T01:27:56.133Z"
   },
   {
    "duration": 251,
    "start_time": "2024-07-23T01:27:56.147Z"
   },
   {
    "duration": 24,
    "start_time": "2024-07-23T01:27:56.401Z"
   },
   {
    "duration": 33,
    "start_time": "2024-07-23T01:27:56.428Z"
   },
   {
    "duration": 488,
    "start_time": "2024-07-23T01:27:56.464Z"
   },
   {
    "duration": 119,
    "start_time": "2024-07-23T01:27:56.955Z"
   },
   {
    "duration": 340,
    "start_time": "2024-07-23T01:27:57.079Z"
   },
   {
    "duration": 17,
    "start_time": "2024-07-23T01:27:57.421Z"
   },
   {
    "duration": 458,
    "start_time": "2024-07-23T01:28:33.667Z"
   },
   {
    "duration": 6,
    "start_time": "2024-07-23T01:28:53.627Z"
   },
   {
    "duration": 16,
    "start_time": "2024-07-23T01:48:26.077Z"
   },
   {
    "duration": 4,
    "start_time": "2024-07-23T01:50:34.636Z"
   },
   {
    "duration": 440,
    "start_time": "2024-07-23T01:51:49.923Z"
   },
   {
    "duration": 28,
    "start_time": "2024-07-23T01:52:09.831Z"
   },
   {
    "duration": 23,
    "start_time": "2024-07-23T01:52:24.756Z"
   },
   {
    "duration": 23,
    "start_time": "2024-07-23T01:52:39.309Z"
   },
   {
    "duration": 25,
    "start_time": "2024-07-23T01:53:12.747Z"
   },
   {
    "duration": 4,
    "start_time": "2024-07-23T01:53:49.206Z"
   },
   {
    "duration": 486,
    "start_time": "2024-07-23T01:54:53.762Z"
   },
   {
    "duration": 30,
    "start_time": "2024-07-23T01:56:20.461Z"
   },
   {
    "duration": 1524,
    "start_time": "2024-07-23T01:57:53.104Z"
   },
   {
    "duration": 36,
    "start_time": "2024-07-23T01:57:54.636Z"
   },
   {
    "duration": 25,
    "start_time": "2024-07-23T01:57:54.679Z"
   },
   {
    "duration": 6,
    "start_time": "2024-07-23T01:57:54.709Z"
   },
   {
    "duration": 66,
    "start_time": "2024-07-23T01:57:54.719Z"
   },
   {
    "duration": 35,
    "start_time": "2024-07-23T01:57:54.788Z"
   },
   {
    "duration": 11,
    "start_time": "2024-07-23T01:57:54.827Z"
   },
   {
    "duration": 14,
    "start_time": "2024-07-23T01:57:54.841Z"
   },
   {
    "duration": 23,
    "start_time": "2024-07-23T01:57:54.858Z"
   },
   {
    "duration": 243,
    "start_time": "2024-07-23T01:57:54.927Z"
   },
   {
    "duration": 544,
    "start_time": "2024-07-23T01:57:55.173Z"
   },
   {
    "duration": 462,
    "start_time": "2024-07-23T01:57:55.724Z"
   },
   {
    "duration": 675,
    "start_time": "2024-07-23T01:57:56.189Z"
   },
   {
    "duration": 256,
    "start_time": "2024-07-23T01:57:56.867Z"
   },
   {
    "duration": 9,
    "start_time": "2024-07-23T01:57:57.133Z"
   },
   {
    "duration": 26,
    "start_time": "2024-07-23T01:57:57.152Z"
   },
   {
    "duration": 663,
    "start_time": "2024-07-23T01:57:57.181Z"
   },
   {
    "duration": 82,
    "start_time": "2024-07-23T01:57:57.846Z"
   },
   {
    "duration": 7,
    "start_time": "2024-07-23T01:57:57.932Z"
   },
   {
    "duration": 244,
    "start_time": "2024-07-23T01:57:57.942Z"
   },
   {
    "duration": 379,
    "start_time": "2024-07-23T01:57:58.189Z"
   },
   {
    "duration": 19,
    "start_time": "2024-07-23T01:57:58.572Z"
   },
   {
    "duration": 60,
    "start_time": "2024-07-23T01:57:58.594Z"
   },
   {
    "duration": 481,
    "start_time": "2024-07-23T01:57:58.661Z"
   },
   {
    "duration": 140,
    "start_time": "2024-07-23T01:57:59.145Z"
   },
   {
    "duration": 449,
    "start_time": "2024-07-23T01:57:59.288Z"
   },
   {
    "duration": 22,
    "start_time": "2024-07-23T01:57:59.741Z"
   },
   {
    "duration": 21,
    "start_time": "2024-07-23T01:57:59.771Z"
   },
   {
    "duration": 33,
    "start_time": "2024-07-23T01:57:59.796Z"
   },
   {
    "duration": 532,
    "start_time": "2024-07-23T01:57:59.833Z"
   },
   {
    "duration": 121598,
    "start_time": "2024-07-23T01:58:00.369Z"
   },
   {
    "duration": 531,
    "start_time": "2024-07-23T02:14:56.894Z"
   },
   {
    "duration": 3,
    "start_time": "2024-07-23T02:17:18.316Z"
   },
   {
    "duration": 5,
    "start_time": "2024-07-23T02:19:43.800Z"
   },
   {
    "duration": 9,
    "start_time": "2024-07-23T02:20:20.214Z"
   },
   {
    "duration": 169,
    "start_time": "2024-07-23T02:21:18.336Z"
   },
   {
    "duration": 1317,
    "start_time": "2024-07-23T02:22:41.471Z"
   },
   {
    "duration": 28,
    "start_time": "2024-07-23T02:22:49.477Z"
   },
   {
    "duration": 5,
    "start_time": "2024-07-23T02:25:31.087Z"
   },
   {
    "duration": 31,
    "start_time": "2024-07-23T02:28:18.734Z"
   },
   {
    "duration": 272,
    "start_time": "2024-07-23T02:28:39.720Z"
   },
   {
    "duration": 272,
    "start_time": "2024-07-23T02:28:46.850Z"
   },
   {
    "duration": 9,
    "start_time": "2024-07-23T02:29:48.665Z"
   },
   {
    "duration": 1641,
    "start_time": "2024-07-23T02:40:05.272Z"
   },
   {
    "duration": 20,
    "start_time": "2024-07-23T02:40:06.916Z"
   },
   {
    "duration": 22,
    "start_time": "2024-07-23T02:40:06.939Z"
   },
   {
    "duration": 4,
    "start_time": "2024-07-23T02:40:06.964Z"
   },
   {
    "duration": 93,
    "start_time": "2024-07-23T02:40:06.973Z"
   },
   {
    "duration": 8,
    "start_time": "2024-07-23T02:40:07.069Z"
   },
   {
    "duration": 11,
    "start_time": "2024-07-23T02:40:07.080Z"
   },
   {
    "duration": 36,
    "start_time": "2024-07-23T02:40:07.093Z"
   },
   {
    "duration": 34,
    "start_time": "2024-07-23T02:40:07.131Z"
   },
   {
    "duration": 331,
    "start_time": "2024-07-23T02:40:07.168Z"
   },
   {
    "duration": 665,
    "start_time": "2024-07-23T02:40:07.502Z"
   },
   {
    "duration": 546,
    "start_time": "2024-07-23T02:40:08.170Z"
   },
   {
    "duration": 761,
    "start_time": "2024-07-23T02:40:08.719Z"
   },
   {
    "duration": 298,
    "start_time": "2024-07-23T02:40:09.488Z"
   },
   {
    "duration": 12,
    "start_time": "2024-07-23T02:40:09.791Z"
   },
   {
    "duration": 53,
    "start_time": "2024-07-23T02:40:09.809Z"
   },
   {
    "duration": 378,
    "start_time": "2024-07-23T02:40:09.865Z"
   },
   {
    "duration": 23,
    "start_time": "2024-07-23T02:40:10.250Z"
   },
   {
    "duration": 39,
    "start_time": "2024-07-23T02:40:10.284Z"
   },
   {
    "duration": 241,
    "start_time": "2024-07-23T02:40:10.329Z"
   },
   {
    "duration": 383,
    "start_time": "2024-07-23T02:40:10.579Z"
   },
   {
    "duration": 23,
    "start_time": "2024-07-23T02:40:10.965Z"
   },
   {
    "duration": 61,
    "start_time": "2024-07-23T02:40:10.993Z"
   },
   {
    "duration": 608,
    "start_time": "2024-07-23T02:40:11.058Z"
   },
   {
    "duration": 126,
    "start_time": "2024-07-23T02:40:11.670Z"
   },
   {
    "duration": 523,
    "start_time": "2024-07-23T02:40:11.800Z"
   },
   {
    "duration": 18,
    "start_time": "2024-07-23T02:40:12.326Z"
   },
   {
    "duration": 17,
    "start_time": "2024-07-23T02:40:12.347Z"
   },
   {
    "duration": 3,
    "start_time": "2024-07-23T02:40:12.367Z"
   },
   {
    "duration": 537,
    "start_time": "2024-07-23T02:40:12.373Z"
   },
   {
    "duration": 2590,
    "start_time": "2024-07-24T23:58:01.285Z"
   },
   {
    "duration": 24,
    "start_time": "2024-07-24T23:58:03.929Z"
   },
   {
    "duration": 78,
    "start_time": "2024-07-24T23:58:03.957Z"
   },
   {
    "duration": 5,
    "start_time": "2024-07-24T23:58:04.038Z"
   },
   {
    "duration": 118,
    "start_time": "2024-07-24T23:58:04.049Z"
   },
   {
    "duration": 61,
    "start_time": "2024-07-24T23:58:04.169Z"
   },
   {
    "duration": 10,
    "start_time": "2024-07-24T23:58:04.234Z"
   },
   {
    "duration": 83,
    "start_time": "2024-07-24T23:58:04.248Z"
   },
   {
    "duration": 24,
    "start_time": "2024-07-24T23:58:04.334Z"
   },
   {
    "duration": 580,
    "start_time": "2024-07-24T23:58:04.362Z"
   },
   {
    "duration": 1001,
    "start_time": "2024-07-24T23:58:04.946Z"
   },
   {
    "duration": 792,
    "start_time": "2024-07-24T23:58:05.950Z"
   },
   {
    "duration": 1180,
    "start_time": "2024-07-24T23:58:06.745Z"
   },
   {
    "duration": 511,
    "start_time": "2024-07-24T23:58:07.937Z"
   },
   {
    "duration": 8,
    "start_time": "2024-07-24T23:58:08.452Z"
   },
   {
    "duration": 96,
    "start_time": "2024-07-24T23:58:08.463Z"
   },
   {
    "duration": 564,
    "start_time": "2024-07-24T23:58:08.562Z"
   },
   {
    "duration": 13,
    "start_time": "2024-07-24T23:58:09.129Z"
   },
   {
    "duration": 86,
    "start_time": "2024-07-24T23:58:09.146Z"
   },
   {
    "duration": 307,
    "start_time": "2024-07-24T23:58:09.236Z"
   },
   {
    "duration": 698,
    "start_time": "2024-07-24T23:58:09.546Z"
   },
   {
    "duration": 78,
    "start_time": "2024-07-24T23:58:10.248Z"
   },
   {
    "duration": 41,
    "start_time": "2024-07-24T23:58:10.329Z"
   },
   {
    "duration": 946,
    "start_time": "2024-07-24T23:58:10.426Z"
   },
   {
    "duration": 215,
    "start_time": "2024-07-24T23:58:11.425Z"
   },
   {
    "duration": 813,
    "start_time": "2024-07-24T23:58:11.643Z"
   },
   {
    "duration": 73,
    "start_time": "2024-07-24T23:58:12.460Z"
   },
   {
    "duration": 20,
    "start_time": "2024-07-24T23:58:12.536Z"
   },
   {
    "duration": 68,
    "start_time": "2024-07-24T23:58:12.559Z"
   },
   {
    "duration": 994,
    "start_time": "2024-07-24T23:58:12.631Z"
   },
   {
    "duration": 233414,
    "start_time": "2024-07-24T23:58:13.629Z"
   },
   {
    "duration": 600,
    "start_time": "2024-07-25T00:02:07.046Z"
   },
   {
    "duration": 78,
    "start_time": "2024-07-25T00:02:07.649Z"
   },
   {
    "duration": 11,
    "start_time": "2024-07-25T00:02:07.730Z"
   },
   {
    "duration": 482,
    "start_time": "2024-07-25T00:02:07.744Z"
   },
   {
    "duration": 24,
    "start_time": "2024-07-25T00:02:08.230Z"
   },
   {
    "duration": 68,
    "start_time": "2024-07-25T00:02:08.258Z"
   },
   {
    "duration": 33,
    "start_time": "2024-07-25T00:02:08.329Z"
   },
   {
    "duration": 476,
    "start_time": "2024-07-25T00:02:08.365Z"
   },
   {
    "duration": 10,
    "start_time": "2024-07-25T00:02:08.847Z"
   }
  ],
  "kernelspec": {
   "display_name": "Python 3 (ipykernel)",
   "language": "python",
   "name": "python3"
  },
  "language_info": {
   "codemirror_mode": {
    "name": "ipython",
    "version": 3
   },
   "file_extension": ".py",
   "mimetype": "text/x-python",
   "name": "python",
   "nbconvert_exporter": "python",
   "pygments_lexer": "ipython3",
   "version": "3.11.7"
  },
  "toc": {
   "base_numbering": 1,
   "nav_menu": {},
   "number_sections": true,
   "sideBar": true,
   "skip_h1_title": false,
   "title_cell": "Table of Contents",
   "title_sidebar": "Contents",
   "toc_cell": true,
   "toc_position": {
    "height": "calc(100% - 180px)",
    "left": "10px",
    "top": "150px",
    "width": "214.188px"
   },
   "toc_section_display": true,
   "toc_window_display": true
  }
 },
 "nbformat": 4,
 "nbformat_minor": 2
}
